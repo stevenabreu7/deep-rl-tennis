{
 "cells": [
  {
   "cell_type": "markdown",
   "metadata": {},
   "source": [
    "# Training an intelligent agent\n",
    "---\n",
    "This notebooks shows how to train an intelligent agent in the tennis environment."
   ]
  },
  {
   "cell_type": "code",
   "execution_count": 1,
   "metadata": {},
   "outputs": [],
   "source": [
    "from unityagents import UnityEnvironment\n",
    "import numpy as np\n",
    "import random"
   ]
  },
  {
   "cell_type": "code",
   "execution_count": 2,
   "metadata": {},
   "outputs": [],
   "source": [
    "from collections import deque\n",
    "import json\n",
    "import os\n",
    "import sys"
   ]
  },
  {
   "cell_type": "markdown",
   "metadata": {},
   "source": [
    "Load the tennis environment."
   ]
  },
  {
   "cell_type": "code",
   "execution_count": 3,
   "metadata": {},
   "outputs": [
    {
     "name": "stderr",
     "output_type": "stream",
     "text": [
      "INFO:unityagents:\n",
      "'Academy' started successfully!\n",
      "Unity Academy name: Academy\n",
      "        Number of Brains: 1\n",
      "        Number of External Brains : 1\n",
      "        Lesson number : 0\n",
      "        Reset Parameters :\n",
      "\t\t\n",
      "Unity brain name: TennisBrain\n",
      "        Number of Visual Observations (per agent): 0\n",
      "        Vector Observation space type: continuous\n",
      "        Vector Observation space size (per agent): 8\n",
      "        Number of stacked Vector Observation: 3\n",
      "        Vector Action space type: continuous\n",
      "        Vector Action space size (per agent): 2\n",
      "        Vector Action descriptions: , \n"
     ]
    },
    {
     "name": "stdout",
     "output_type": "stream",
     "text": [
      "Number of agents: 2\n",
      "Action size: 2\n",
      "State size: 8\n"
     ]
    }
   ],
   "source": [
    "# start the environment\n",
    "env = UnityEnvironment(file_name=\"src/exec/Tennis.app\")\n",
    "# get default brain (responsible for deciding agent actions)\n",
    "brain_name = env.brain_names[0]\n",
    "brain = env.brains[brain_name]\n",
    "# examine state and action space\n",
    "env_info = env.reset(train_mode=True)[brain_name]\n",
    "action_size = brain.vector_action_space_size\n",
    "state_size = brain.vector_observation_space_size\n",
    "n_agents = len(env_info.agents)\n",
    "print('Number of agents:', n_agents)\n",
    "print('Action size:', action_size)\n",
    "print('State size:', state_size)"
   ]
  },
  {
   "cell_type": "markdown",
   "metadata": {},
   "source": [
    "## Train the agents using DDPG"
   ]
  },
  {
   "cell_type": "code",
   "execution_count": 4,
   "metadata": {},
   "outputs": [],
   "source": [
    "from src.ddpg import AgentDDPG"
   ]
  },
  {
   "cell_type": "markdown",
   "metadata": {},
   "source": [
    "Setup the model with hyperparameters and the folder in which to save model files (scores, plots, parameter checkpoints)."
   ]
  },
  {
   "cell_type": "code",
   "execution_count": 5,
   "metadata": {},
   "outputs": [],
   "source": [
    "agentParams = {\n",
    "    \"actor_arch\": [256, 128],\n",
    "    \"critic_arch\": [256, 128],\n",
    "    \"action_size\": 2,\n",
    "    \"state_size\": 24,\n",
    "    \"buffer_size\": int(1e5),\n",
    "    \"batch_size\": 512,\n",
    "    \"lr_actor\": 1e-4,\n",
    "    \"lr_critic\": 1e-3,\n",
    "    \"gamma\": 0.99,\n",
    "    \"tau\": 1e-3,\n",
    "    \"noise_mu\": 0.0,\n",
    "    \"noise_sigma\": 0.2,\n",
    "    \"noise_decay\": 1.0,\n",
    "    \"noise_min_sigma\": 0.01,\n",
    "    \"noise_theta\": 0.15,\n",
    "    \"weight_decay_critic\": 0.0,\n",
    "    \"weight_decay_actor\": 0.0,\n",
    "    \"soft_update_freq\": 1,\n",
    "    \"hard_update_at_t\": -1,\n",
    "    \"gradient_clipping\": False\n",
    "}\n",
    "folder = \"01_standard_ddpg\""
   ]
  },
  {
   "cell_type": "markdown",
   "metadata": {},
   "source": [
    "First, create all necessary folders and save the model parameters."
   ]
  },
  {
   "cell_type": "code",
   "execution_count": 6,
   "metadata": {},
   "outputs": [
    {
     "name": "stdout",
     "output_type": "stream",
     "text": [
      "Setting up model in folder: 01_standard_ddpg\n"
     ]
    }
   ],
   "source": [
    "print(\"Setting up model in folder:\", folder)\n",
    "if not os.path.exists(folder):\n",
    "    os.makedirs(folder)\n",
    "    os.makedirs(os.path.join(folder, \"solved\"))\n",
    "    os.makedirs(os.path.join(folder, \"end\"))\n",
    "# save parameter file\n",
    "d = json.dumps(agentParams, indent=2)\n",
    "with open(os.path.join(folder, \"params.json\"), \"w\") as f:\n",
    "    f.write(d)"
   ]
  },
  {
   "cell_type": "markdown",
   "metadata": {},
   "source": [
    "Create and setup the DDPG agent."
   ]
  },
  {
   "cell_type": "code",
   "execution_count": 7,
   "metadata": {},
   "outputs": [],
   "source": [
    "seed = 123\n",
    "n_episodes = 20"
   ]
  },
  {
   "cell_type": "code",
   "execution_count": 8,
   "metadata": {},
   "outputs": [],
   "source": [
    "agent = AgentDDPG(env, seed, **agentParams)\n",
    "brain_name = env.brain_names[0]"
   ]
  },
  {
   "cell_type": "markdown",
   "metadata": {},
   "source": [
    "Run the training!"
   ]
  },
  {
   "cell_type": "code",
   "execution_count": 9,
   "metadata": {},
   "outputs": [
    {
     "name": "stdout",
     "output_type": "stream",
     "text": [
      "episode 20\t score: 0.0000\taverage: 0.0100"
     ]
    }
   ],
   "source": [
    "scores = []\n",
    "scores_window = deque(maxlen=100)\n",
    "solved_env = False\n",
    "for i_episode in range(1, n_episodes+1):\n",
    "    # reset agent's noise process\n",
    "    agent.episode_step()\n",
    "    # reset environment\n",
    "    env_info = env.reset(train_mode=True)[brain_name]\n",
    "    # get current state (for each agent)\n",
    "    states = env_info.vector_observations\n",
    "    # initialize score (for each agent)\n",
    "    i_scores = np.zeros(n_agents)\n",
    "    while True:\n",
    "        # select action (for each agent)\n",
    "        actions = agent.act(states)\n",
    "        # execute actions\n",
    "        env_info = env.step(actions)[brain_name]\n",
    "        # get next state, reward, done (for each agent)\n",
    "        next_states = env_info.vector_observations\n",
    "        rewards = env_info.rewards\n",
    "        dones = env_info.local_done\n",
    "        # learning step for the agent (one step for each agent)\n",
    "        agent.step(states[0], actions[0], rewards[0], next_states[0], dones[0])\n",
    "        agent.step(states[1], actions[1], rewards[1], next_states[1], dones[1])\n",
    "        # update scores and states (for each agent)\n",
    "        i_scores += rewards\n",
    "        states = next_states\n",
    "        if np.any(dones):\n",
    "            break\n",
    "    # get better maximum score of both agents\n",
    "    score = max(i_scores)\n",
    "    # save this episode's score\n",
    "    scores.append(score)\n",
    "    scores_window.append(score)\n",
    "    # save the scores up until now\n",
    "    np.save(os.path.join(folder, \"scores.npy\"), scores)\n",
    "    with open(os.path.join(folder, \"scores.txt\"), \"a\") as f:\n",
    "        f.write(\"{:03} {}\\n\".format(i_episode, score))\n",
    "    # print episode\n",
    "    print('\\repisode {}\\t score: {:.4f}\\taverage: {:.4f}'.format(\n",
    "        i_episode, score, np.mean(scores_window)\n",
    "    ), end=\"\\n\" if i_episode % 100 == 0 else \"\")\n",
    "    sys.stdout.flush()\n",
    "\n",
    "    # save the model every 100 episodes\n",
    "    if i_episode % 100 == 0:\n",
    "        agent.save(os.path.join(folder, \"params_{}\".format(i_episode)))\n",
    "\n",
    "    # check if solved\n",
    "    if len(scores) > 100 and np.mean(scores_window) > 0.5 and not solved_env:\n",
    "        print(\"\\nsolved environment!\")\n",
    "        solved_env = True\n",
    "        agent.save(os.path.join(folder, \"solved\"))\n",
    "\n",
    "agent.save(os.path.join(folder, \"end\"))"
   ]
  },
  {
   "cell_type": "markdown",
   "metadata": {},
   "source": [
    "Close the environment when done."
   ]
  },
  {
   "cell_type": "code",
   "execution_count": 10,
   "metadata": {},
   "outputs": [],
   "source": [
    "env.close()"
   ]
  }
 ],
 "metadata": {
  "kernelspec": {
   "display_name": "Python 3.6.3 64-bit ('3.6.3': pyenv)",
   "language": "python",
   "name": "python36364bit363pyenvbad1f56229964fd3ae35317ba3ca7775"
  },
  "language_info": {
   "codemirror_mode": {
    "name": "ipython",
    "version": 3
   },
   "file_extension": ".py",
   "mimetype": "text/x-python",
   "name": "python",
   "nbconvert_exporter": "python",
   "pygments_lexer": "ipython3",
   "version": "3.6.3"
  }
 },
 "nbformat": 4,
 "nbformat_minor": 4
}
